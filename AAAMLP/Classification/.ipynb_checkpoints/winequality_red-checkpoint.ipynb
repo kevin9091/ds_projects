{
 "cells": [
  {
   "cell_type": "code",
   "execution_count": 2,
   "id": "identified-corps",
   "metadata": {},
   "outputs": [],
   "source": [
    "import pandas as pd"
   ]
  },
  {
   "cell_type": "code",
   "execution_count": 3,
   "id": "requested-coaching",
   "metadata": {},
   "outputs": [
    {
     "data": {
      "text/html": [
       "<div>\n",
       "<style scoped>\n",
       "    .dataframe tbody tr th:only-of-type {\n",
       "        vertical-align: middle;\n",
       "    }\n",
       "\n",
       "    .dataframe tbody tr th {\n",
       "        vertical-align: top;\n",
       "    }\n",
       "\n",
       "    .dataframe thead th {\n",
       "        text-align: right;\n",
       "    }\n",
       "</style>\n",
       "<table border=\"1\" class=\"dataframe\">\n",
       "  <thead>\n",
       "    <tr style=\"text-align: right;\">\n",
       "      <th></th>\n",
       "      <th>fixed acidity</th>\n",
       "      <th>volatile acidity</th>\n",
       "      <th>citric acid</th>\n",
       "      <th>residual sugar</th>\n",
       "      <th>chlorides</th>\n",
       "      <th>free sulfur dioxide</th>\n",
       "      <th>total sulfur dioxide</th>\n",
       "      <th>density</th>\n",
       "      <th>pH</th>\n",
       "      <th>sulphates</th>\n",
       "      <th>alcohol</th>\n",
       "      <th>quality</th>\n",
       "    </tr>\n",
       "  </thead>\n",
       "  <tbody>\n",
       "    <tr>\n",
       "      <th>0</th>\n",
       "      <td>7.4</td>\n",
       "      <td>0.70</td>\n",
       "      <td>0.00</td>\n",
       "      <td>1.9</td>\n",
       "      <td>0.076</td>\n",
       "      <td>11.0</td>\n",
       "      <td>34.0</td>\n",
       "      <td>0.9978</td>\n",
       "      <td>3.51</td>\n",
       "      <td>0.56</td>\n",
       "      <td>9.4</td>\n",
       "      <td>5</td>\n",
       "    </tr>\n",
       "    <tr>\n",
       "      <th>1</th>\n",
       "      <td>7.8</td>\n",
       "      <td>0.88</td>\n",
       "      <td>0.00</td>\n",
       "      <td>2.6</td>\n",
       "      <td>0.098</td>\n",
       "      <td>25.0</td>\n",
       "      <td>67.0</td>\n",
       "      <td>0.9968</td>\n",
       "      <td>3.20</td>\n",
       "      <td>0.68</td>\n",
       "      <td>9.8</td>\n",
       "      <td>5</td>\n",
       "    </tr>\n",
       "    <tr>\n",
       "      <th>2</th>\n",
       "      <td>7.8</td>\n",
       "      <td>0.76</td>\n",
       "      <td>0.04</td>\n",
       "      <td>2.3</td>\n",
       "      <td>0.092</td>\n",
       "      <td>15.0</td>\n",
       "      <td>54.0</td>\n",
       "      <td>0.9970</td>\n",
       "      <td>3.26</td>\n",
       "      <td>0.65</td>\n",
       "      <td>9.8</td>\n",
       "      <td>5</td>\n",
       "    </tr>\n",
       "    <tr>\n",
       "      <th>3</th>\n",
       "      <td>11.2</td>\n",
       "      <td>0.28</td>\n",
       "      <td>0.56</td>\n",
       "      <td>1.9</td>\n",
       "      <td>0.075</td>\n",
       "      <td>17.0</td>\n",
       "      <td>60.0</td>\n",
       "      <td>0.9980</td>\n",
       "      <td>3.16</td>\n",
       "      <td>0.58</td>\n",
       "      <td>9.8</td>\n",
       "      <td>6</td>\n",
       "    </tr>\n",
       "    <tr>\n",
       "      <th>4</th>\n",
       "      <td>7.4</td>\n",
       "      <td>0.70</td>\n",
       "      <td>0.00</td>\n",
       "      <td>1.9</td>\n",
       "      <td>0.076</td>\n",
       "      <td>11.0</td>\n",
       "      <td>34.0</td>\n",
       "      <td>0.9978</td>\n",
       "      <td>3.51</td>\n",
       "      <td>0.56</td>\n",
       "      <td>9.4</td>\n",
       "      <td>5</td>\n",
       "    </tr>\n",
       "  </tbody>\n",
       "</table>\n",
       "</div>"
      ],
      "text/plain": [
       "   fixed acidity  volatile acidity  citric acid  residual sugar  chlorides  \\\n",
       "0            7.4              0.70         0.00             1.9      0.076   \n",
       "1            7.8              0.88         0.00             2.6      0.098   \n",
       "2            7.8              0.76         0.04             2.3      0.092   \n",
       "3           11.2              0.28         0.56             1.9      0.075   \n",
       "4            7.4              0.70         0.00             1.9      0.076   \n",
       "\n",
       "   free sulfur dioxide  total sulfur dioxide  density    pH  sulphates  \\\n",
       "0                 11.0                  34.0   0.9978  3.51       0.56   \n",
       "1                 25.0                  67.0   0.9968  3.20       0.68   \n",
       "2                 15.0                  54.0   0.9970  3.26       0.65   \n",
       "3                 17.0                  60.0   0.9980  3.16       0.58   \n",
       "4                 11.0                  34.0   0.9978  3.51       0.56   \n",
       "\n",
       "   alcohol  quality  \n",
       "0      9.4        5  \n",
       "1      9.8        5  \n",
       "2      9.8        5  \n",
       "3      9.8        6  \n",
       "4      9.4        5  "
      ]
     },
     "execution_count": 3,
     "metadata": {},
     "output_type": "execute_result"
    }
   ],
   "source": [
    "df = pd.read_csv(\"../../../data/winequality-red.csv\",sep=\";\")\n",
    "df.head()"
   ]
  },
  {
   "cell_type": "code",
   "execution_count": 4,
   "id": "preliminary-manufacturer",
   "metadata": {},
   "outputs": [],
   "source": [
    "# Mapping quality to 0 to 5 \n",
    "quality_mapping = { 3:0, 4:1, 5:2, 6:3, 7:4, 8:5, 9:6 }\n",
    "\n",
    "# you can use the map function of pandas with any dictionary to convert \n",
    "# the values in a given column to values in the dictionary\n",
    "df.loc[:,\"quality\"] = df.quality.map(quality_mapping)"
   ]
  },
  {
   "cell_type": "code",
   "execution_count": 5,
   "id": "simple-vocabulary",
   "metadata": {},
   "outputs": [],
   "source": [
    "# use sample with frac=1 to shuffle the dataframe we reset the indices \n",
    "# since they change after shuffling the dataframe\n",
    "df = df.sample(frac=1).reset_index(drop=True)\n",
    "# top 1000 rows are selected for training\n",
    "df_train = df.head(1000)\n",
    "# bottom 599 values are selected for testing/validation\n",
    "df_test = df.tail(599)"
   ]
  },
  {
   "cell_type": "code",
   "execution_count": 5,
   "id": "varying-northeast",
   "metadata": {},
   "outputs": [
    {
     "data": {
      "text/plain": [
       "DecisionTreeClassifier(max_depth=3)"
      ]
     },
     "execution_count": 5,
     "metadata": {},
     "output_type": "execute_result"
    }
   ],
   "source": [
    "# import from scikit-learn\n",
    "from sklearn import tree\n",
    "from sklearn import metrics\n",
    "# initialize decision tree classifier class with a max_depth of 3\n",
    "clf = tree.DecisionTreeClassifier(max_depth=3)\n",
    "# choose the columns you want to train on these are the features for the model\n",
    "cols = ['fixed acidity', 'volatile acidity', 'citric acid', 'residual sugar', 'chlorides', \n",
    "    'free sulfur dioxide','total sulfur dioxide', 'density', 'pH', 'sulphates', 'alcohol']\n",
    "# train the model on the provided features and mapped quality from before\n",
    "clf.fit(df_train[cols], df_train.quality)"
   ]
  },
  {
   "cell_type": "code",
   "execution_count": 6,
   "id": "bored-referral",
   "metadata": {},
   "outputs": [],
   "source": [
    "# generate predictions on the training set\n",
    "train_predictions = clf.predict(df_train[cols])\n",
    "\n",
    "# generate predictions on the test set\n",
    "test_predictions = clf.predict(df_test[cols])\n",
    "\n",
    "# calculate the accuracy of predictions on training data set\n",
    "train_accuracy = metrics.accuracy_score(df_train.quality, train_predictions)\n",
    "\n",
    "# calculate the accuracy of predictions on test data set\n",
    "test_accuracy = metrics.accuracy_score(df_test.quality, test_predictions)"
   ]
  },
  {
   "cell_type": "code",
   "execution_count": 7,
   "id": "wireless-delaware",
   "metadata": {},
   "outputs": [
    {
     "name": "stdout",
     "output_type": "stream",
     "text": [
      "0.585\n",
      "0.5375626043405676\n"
     ]
    }
   ],
   "source": [
    "print(train_accuracy)\n",
    "print(test_accuracy)"
   ]
  },
  {
   "cell_type": "code",
   "execution_count": 9,
   "id": "unnecessary-analysis",
   "metadata": {},
   "outputs": [],
   "source": [
    "# import matplotlib and seaborn for plotting\n",
    "import matplotlib\n",
    "import matplotlib.pyplot as plt\n",
    "import seaborn as sns\n",
    "\n",
    "# this is our global size of label text on the plots\n",
    "matplotlib.rc('xtick', labelsize=20)\n",
    "matplotlib.rc('ytick', labelsize=20)\n",
    "\n",
    "# This line ensures that the plot is displayed inside the notebook\n",
    "%matplotlib inline\n",
    "# initialize lists to store accuracies for training and test data we start with 50% accuracy\n",
    "train_accuracies = [0.5]\n",
    "test_accuracies = [0.5]"
   ]
  },
  {
   "cell_type": "code",
   "execution_count": 10,
   "id": "floral-volleyball",
   "metadata": {},
   "outputs": [
    {
     "data": {
      "image/png": "[encoded data removed]",
      "text/plain": [
       "<Figure size 720x360 with 1 Axes>"
      ]
     },
     "metadata": {
      "needs_background": "light"
     },
     "output_type": "display_data"
    }
   ],
   "source": [
    "# iterate over a few depth values\n",
    "for depth in range(1, 25):\n",
    "    # init the model\n",
    "    clf = tree.DecisionTreeClassifier(max_depth=depth)\n",
    "    # columns/features for training\n",
    "    # note that, this can be done outside\n",
    "    # the loop\n",
    "    cols = ['fixed acidity', 'volatile acidity', 'citric acid', 'residual sugar', 'chlorides', \n",
    "        'free sulfur dioxide','total sulfur dioxide', 'density', 'pH', 'sulphates', 'alcohol']\n",
    "\n",
    "    # fit the model on given features\n",
    "    clf.fit(df_train[cols], df_train.quality)\n",
    "    # create training & test predictions\n",
    "    train_predictions = clf.predict(df_train[cols])\n",
    "    test_predictions = clf.predict(df_test[cols])\n",
    "    # calculate training & test accuracies\n",
    "    train_accuracy = metrics.accuracy_score(\n",
    "    df_train.quality, train_predictions\n",
    "    )\n",
    "    test_accuracy = metrics.accuracy_score(\n",
    "    df_test.quality, test_predictions\n",
    "    )\n",
    "    # append accuracies\n",
    "    train_accuracies.append(train_accuracy)\n",
    "    test_accuracies.append(test_accuracy)\n",
    "\n",
    "# create two plots using matplotlib\n",
    "# and seaborn\n",
    "plt.figure(figsize=(10, 5))\n",
    "sns.set_style(\"whitegrid\")\n",
    "plt.plot(train_accuracies, label=\"train accuracy\")\n",
    "plt.plot(test_accuracies, label=\"test accuracy\")\n",
    "plt.legend(loc=\"upper left\", prop={'size': 15})\n",
    "plt.xticks(range(0, 26, 5))\n",
    "plt.xlabel(\"max_depth\", size=20)\n",
    "plt.ylabel(\"accuracy\", size=20)\n",
    "plt.show()"
   ]
  },
  {
   "cell_type": "code",
   "execution_count": 6,
   "id": "seasonal-philosophy",
   "metadata": {},
   "outputs": [],
   "source": [
    "df[\"kfold\"] = -1\n",
    "df = df.sample(frac=1).reset_index(drop=True)\n",
    "y = df.quality.values"
   ]
  },
  {
   "cell_type": "code",
   "execution_count": 9,
   "id": "quick-weapon",
   "metadata": {},
   "outputs": [],
   "source": [
    "from sklearn import model_selection\n",
    "kf = model_selection.StratifiedKFold(n_splits=5)"
   ]
  },
  {
   "cell_type": "code",
   "execution_count": 12,
   "id": "quarterly-jewelry",
   "metadata": {},
   "outputs": [
    {
     "data": {
      "text/plain": [
       "(array([ 208,  234,  244, ..., 1596, 1597, 1598]),\n",
       " array([  0,   1,   2,   3,   4,   5,   6,   7,   8,   9,  10,  11,  12,\n",
       "         13,  14,  15,  16,  17,  18,  19,  20,  21,  22,  23,  24,  25,\n",
       "         26,  27,  28,  29,  30,  31,  32,  33,  34,  35,  36,  37,  38,\n",
       "         39,  40,  41,  42,  43,  44,  45,  46,  47,  48,  49,  50,  51,\n",
       "         52,  53,  54,  55,  56,  57,  58,  59,  60,  61,  62,  63,  64,\n",
       "         65,  66,  67,  68,  69,  70,  71,  72,  73,  74,  75,  76,  77,\n",
       "         78,  79,  80,  81,  82,  83,  84,  85,  86,  87,  88,  89,  90,\n",
       "         91,  92,  93,  94,  95,  96,  97,  98,  99, 100, 101, 102, 103,\n",
       "        104, 105, 106, 107, 108, 109, 110, 111, 112, 113, 114, 115, 116,\n",
       "        117, 118, 119, 120, 121, 122, 123, 124, 125, 126, 127, 128, 129,\n",
       "        130, 131, 132, 133, 134, 135, 136, 137, 138, 139, 140, 141, 142,\n",
       "        143, 144, 145, 146, 147, 148, 149, 150, 151, 152, 153, 154, 155,\n",
       "        156, 157, 158, 159, 160, 161, 162, 163, 164, 165, 166, 167, 168,\n",
       "        169, 170, 171, 172, 173, 174, 175, 176, 177, 178, 179, 180, 181,\n",
       "        182, 183, 184, 185, 186, 187, 188, 189, 190, 191, 192, 193, 194,\n",
       "        195, 196, 197, 198, 199, 200, 201, 202, 203, 204, 205, 206, 207,\n",
       "        209, 210, 211, 212, 213, 214, 215, 216, 217, 218, 219, 220, 221,\n",
       "        222, 223, 224, 225, 226, 227, 228, 229, 230, 231, 232, 233, 235,\n",
       "        236, 237, 238, 239, 240, 241, 242, 243, 245, 246, 247, 248, 249,\n",
       "        250, 251, 252, 253, 254, 255, 256, 257, 258, 259, 260, 261, 262,\n",
       "        263, 264, 265, 266, 267, 268, 269, 270, 271, 272, 273, 274, 275,\n",
       "        276, 277, 278, 279, 280, 281, 282, 283, 284, 285, 286, 287, 288,\n",
       "        289, 290, 291, 292, 294, 295, 296, 297, 298, 299, 300, 301, 302,\n",
       "        304, 305, 306, 307, 308, 309, 310, 311, 312, 313, 314, 315, 316,\n",
       "        317, 318, 321, 322, 328, 331, 338, 345]))"
      ]
     },
     "execution_count": 12,
     "metadata": {},
     "output_type": "execute_result"
    }
   ],
   "source": [
    "next(kf.split(X=df, y=y))"
   ]
  },
  {
   "cell_type": "code",
   "execution_count": null,
   "id": "linear-frame",
   "metadata": {},
   "outputs": [],
   "source": []
  }
 ],
 "metadata": {
  "kernelspec": {
   "display_name": "Python 3",
   "language": "python",
   "name": "python3"
  },
  "language_info": {
   "codemirror_mode": {
    "name": "ipython",
    "version": 3
   },
   "file_extension": ".py",
   "mimetype": "text/x-python",
   "name": "python",
   "nbconvert_exporter": "python",
   "pygments_lexer": "ipython3",
   "version": "3.7.6"
  }
 },
 "nbformat": 4,
 "nbformat_minor": 5
}

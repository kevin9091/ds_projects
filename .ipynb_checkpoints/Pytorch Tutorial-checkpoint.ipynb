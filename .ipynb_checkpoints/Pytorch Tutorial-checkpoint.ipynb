{
 "cells": [
  {
   "cell_type": "code",
   "execution_count": 2,
   "metadata": {},
   "outputs": [],
   "source": [
    "import numpy as np \n",
    "import pandas as pd\n",
    "import torch"
   ]
  },
  {
   "cell_type": "code",
   "execution_count": 12,
   "metadata": {},
   "outputs": [],
   "source": [
    "x = x.new_ones(5,3, dtype = torch.int)"
   ]
  },
  {
   "cell_type": "code",
   "execution_count": 13,
   "metadata": {},
   "outputs": [
    {
     "name": "stdout",
     "output_type": "stream",
     "text": [
      "tensor([[1, 1, 1],\n",
      "        [1, 1, 1],\n",
      "        [1, 1, 1],\n",
      "        [1, 1, 1],\n",
      "        [1, 1, 1]], dtype=torch.int32)\n"
     ]
    }
   ],
   "source": [
    "print(x)"
   ]
  },
  {
   "cell_type": "code",
   "execution_count": 2,
   "metadata": {},
   "outputs": [
    {
     "data": {
      "text/plain": [
       "True"
      ]
     },
     "execution_count": 2,
     "metadata": {},
     "output_type": "execute_result"
    }
   ],
   "source": [
    "torch.cuda.is_available()"
   ]
  },
  {
   "cell_type": "code",
   "execution_count": 3,
   "metadata": {},
   "outputs": [],
   "source": [
    "x = torch.ones(2,2,requires_grad = True)"
   ]
  },
  {
   "cell_type": "code",
   "execution_count": 4,
   "metadata": {},
   "outputs": [
    {
     "name": "stdout",
     "output_type": "stream",
     "text": [
      "tensor([[3., 3.],\n",
      "        [3., 3.]], grad_fn=<AddBackward0>)\n",
      "<AddBackward0 object at 0x000001E6DB48E208>\n"
     ]
    }
   ],
   "source": [
    "y = x+2\n",
    "print(y)\n",
    "print(y.grad_fn)"
   ]
  },
  {
   "cell_type": "code",
   "execution_count": 18,
   "metadata": {},
   "outputs": [
    {
     "name": "stdout",
     "output_type": "stream",
     "text": [
      "tensor(27., grad_fn=<MeanBackward0>)\n"
     ]
    }
   ],
   "source": [
    "z = 3*y*y\n",
    "out = z.mean()\n",
    "print(out)"
   ]
  },
  {
   "cell_type": "code",
   "execution_count": 19,
   "metadata": {},
   "outputs": [
    {
     "name": "stdout",
     "output_type": "stream",
     "text": [
      "tensor([[3., 3.],\n",
      "        [3., 3.]], grad_fn=<AddBackward0>)\n",
      "tensor([[9., 9.],\n",
      "        [9., 9.]], grad_fn=<MulBackward0>)\n"
     ]
    }
   ],
   "source": [
    "print(y)\n",
    "print(y*y)"
   ]
  },
  {
   "cell_type": "code",
   "execution_count": 20,
   "metadata": {},
   "outputs": [],
   "source": [
    "out.backward()"
   ]
  },
  {
   "cell_type": "code",
   "execution_count": 22,
   "metadata": {},
   "outputs": [
    {
     "name": "stdout",
     "output_type": "stream",
     "text": [
      "tensor([[4.5000, 4.5000],\n",
      "        [4.5000, 4.5000]])\n"
     ]
    }
   ],
   "source": [
    "print(x.grad)"
   ]
  },
  {
   "cell_type": "markdown",
   "metadata": {},
   "source": [
    "## Linear Layer Neural Network"
   ]
  },
  {
   "cell_type": "code",
   "execution_count": 1,
   "metadata": {},
   "outputs": [],
   "source": [
    "import numpy as np \n",
    "import pandas as pd\n",
    "import torch\n",
    "import torch.nn as nn\n",
    "import torch.nn.functional as F\n",
    "from torch.autograd import Variable\n",
    "import torch.optim as optim"
   ]
  },
  {
   "cell_type": "code",
   "execution_count": 2,
   "metadata": {},
   "outputs": [],
   "source": [
    "class Net(nn.Module):\n",
    "    def __init__(self):\n",
    "        super(Net, self).__init__()\n",
    "        self.fc1 = nn.Linear(1,1)\n",
    "\n",
    "    def forward(self, x):\n",
    "        x = self.fc1(x)\n",
    "        return x"
   ]
  },
  {
   "cell_type": "code",
   "execution_count": 50,
   "metadata": {},
   "outputs": [
    {
     "name": "stdout",
     "output_type": "stream",
     "text": [
      "Net(\n",
      "  (fc1): Linear(in_features=1, out_features=1, bias=True)\n",
      ")\n",
      "[Parameter containing:\n",
      "tensor([[0.9121]], requires_grad=True), Parameter containing:\n",
      "tensor([-0.9944], requires_grad=True)]\n"
     ]
    }
   ],
   "source": [
    "net = Net()\n",
    "print(net)\n",
    "print(list(net.parameters()))"
   ]
  },
  {
   "cell_type": "code",
   "execution_count": 51,
   "metadata": {},
   "outputs": [
    {
     "name": "stdout",
     "output_type": "stream",
     "text": [
      "tensor([[[-0.7919]]], requires_grad=True)\n"
     ]
    }
   ],
   "source": [
    "input = Variable(torch.randn(1,1,1), requires_grad = True)\n",
    "print(input)"
   ]
  },
  {
   "cell_type": "code",
   "execution_count": 52,
   "metadata": {},
   "outputs": [
    {
     "name": "stdout",
     "output_type": "stream",
     "text": [
      "tensor([[[-1.7167]]], grad_fn=<AddBackward0>)\n"
     ]
    }
   ],
   "source": [
    "out = net(input)\n",
    "print(out)"
   ]
  },
  {
   "cell_type": "code",
   "execution_count": 53,
   "metadata": {},
   "outputs": [],
   "source": [
    "def criterion(out, label):\n",
    "    return (label - out)**2\n",
    "optimizer = optim.SGD(net.parameters(), lr = 0.01)"
   ]
  },
  {
   "cell_type": "code",
   "execution_count": 54,
   "metadata": {},
   "outputs": [],
   "source": [
    "data = [(1,3),(2,6),(3,9),(4,12),(5,15),(6,18)]\n",
    "# data = [1,2,3,4]"
   ]
  },
  {
   "cell_type": "code",
   "execution_count": 56,
   "metadata": {},
   "outputs": [
    {
     "name": "stdout",
     "output_type": "stream",
     "text": [
      "Epoch 0 - Loss = 0.000934701703954488\n",
      "Epoch 1 - Loss = 0.0008919625543057919\n",
      "Epoch 2 - Loss = 0.0008511831401847303\n",
      "Epoch 3 - Loss = 0.0008122545550577343\n",
      "Epoch 4 - Loss = 0.0007750997901894152\n",
      "Epoch 5 - Loss = 0.0007396575529128313\n",
      "Epoch 6 - Loss = 0.0007058045594021678\n",
      "Epoch 7 - Loss = 0.000673548667691648\n",
      "Epoch 8 - Loss = 0.0006427602493204176\n",
      "Epoch 9 - Loss = 0.0006133532151579857\n",
      "Epoch 10 - Loss = 0.0005853151087649167\n",
      "Epoch 11 - Loss = 0.0005585526232607663\n",
      "Epoch 12 - Loss = 0.0005329776904545724\n",
      "Epoch 13 - Loss = 0.0005086255841888487\n",
      "Epoch 14 - Loss = 0.00048535747919231653\n",
      "Epoch 15 - Loss = 0.00046316764201037586\n",
      "Epoch 16 - Loss = 0.00044199806870892644\n",
      "Epoch 17 - Loss = 0.00042177404975518584\n",
      "Epoch 18 - Loss = 0.0004024826339446008\n",
      "Epoch 19 - Loss = 0.0003840818826574832\n",
      "Epoch 20 - Loss = 0.00036651320988312364\n",
      "Epoch 21 - Loss = 0.00034974809386767447\n",
      "Epoch 22 - Loss = 0.0003337673260830343\n",
      "Epoch 23 - Loss = 0.00031850056257098913\n",
      "Epoch 24 - Loss = 0.00030393191264010966\n",
      "Epoch 25 - Loss = 0.00029003716190345585\n",
      "Epoch 26 - Loss = 0.0002767767873592675\n",
      "Epoch 27 - Loss = 0.0002641210739966482\n",
      "Epoch 28 - Loss = 0.0002520491252653301\n",
      "Epoch 29 - Loss = 0.00024051827494986355\n",
      "Epoch 30 - Loss = 0.00022951740538701415\n",
      "Epoch 31 - Loss = 0.00021902800654061139\n",
      "Epoch 32 - Loss = 0.00020899758965242654\n",
      "Epoch 33 - Loss = 0.0001994446211028844\n",
      "Epoch 34 - Loss = 0.00019033212447538972\n",
      "Epoch 35 - Loss = 0.00018162545165978372\n",
      "Epoch 36 - Loss = 0.00017331086564809084\n",
      "Epoch 37 - Loss = 0.00016538727504666895\n",
      "Epoch 38 - Loss = 0.00015782273840159178\n",
      "Epoch 39 - Loss = 0.00015061076555866748\n",
      "Epoch 40 - Loss = 0.00014372177247423679\n",
      "Epoch 41 - Loss = 0.00013715034583583474\n",
      "Epoch 42 - Loss = 0.00013087448314763606\n",
      "Epoch 43 - Loss = 0.00012488942593336105\n",
      "Epoch 44 - Loss = 0.00011918496602447703\n",
      "Epoch 45 - Loss = 0.00011373076995369047\n",
      "Epoch 46 - Loss = 0.00010852846753550693\n",
      "Epoch 47 - Loss = 0.00010356923303334042\n",
      "Epoch 48 - Loss = 9.883497114060447e-05\n",
      "Epoch 49 - Loss = 9.430867794435471e-05\n",
      "Epoch 50 - Loss = 9.000152931548655e-05\n",
      "Epoch 51 - Loss = 8.587898628320545e-05\n",
      "Epoch 52 - Loss = 8.195666305255145e-05\n",
      "Epoch 53 - Loss = 7.821033068466932e-05\n",
      "Epoch 54 - Loss = 7.462576468242332e-05\n",
      "Epoch 55 - Loss = 7.121377711882815e-05\n",
      "Epoch 56 - Loss = 6.796022353228182e-05\n",
      "Epoch 57 - Loss = 6.485184712801129e-05\n",
      "Epoch 58 - Loss = 6.188747647684067e-05\n",
      "Epoch 59 - Loss = 5.905839498154819e-05\n",
      "Epoch 60 - Loss = 5.635633715428412e-05\n",
      "Epoch 61 - Loss = 5.3780473535880446e-05\n",
      "Epoch 62 - Loss = 5.131608486408368e-05\n",
      "Epoch 63 - Loss = 4.8969537601806223e-05\n",
      "Epoch 64 - Loss = 4.6733301132917404e-05\n",
      "Epoch 65 - Loss = 4.459389310795814e-05\n",
      "Epoch 66 - Loss = 4.25605867349077e-05\n",
      "Epoch 67 - Loss = 4.0611179429106414e-05\n",
      "Epoch 68 - Loss = 3.875198308378458e-05\n",
      "Epoch 69 - Loss = 3.697692955029197e-05\n",
      "Epoch 70 - Loss = 3.528596425894648e-05\n",
      "Epoch 71 - Loss = 3.367883255123161e-05\n",
      "Epoch 72 - Loss = 3.213618401787244e-05\n",
      "Epoch 73 - Loss = 3.0666655220557004e-05\n",
      "Epoch 74 - Loss = 2.9262464522616938e-05\n",
      "Epoch 75 - Loss = 2.7926445909542963e-05\n",
      "Epoch 76 - Loss = 2.6648711354937404e-05\n",
      "Epoch 77 - Loss = 2.5427340005990118e-05\n",
      "Epoch 78 - Loss = 2.4265144020318985e-05\n",
      "Epoch 79 - Loss = 2.3157659597927704e-05\n",
      "Epoch 80 - Loss = 2.2098452973295934e-05\n",
      "Epoch 81 - Loss = 2.1088118955958635e-05\n",
      "Epoch 82 - Loss = 2.0127088646404445e-05\n",
      "Epoch 83 - Loss = 1.9205182979931124e-05\n",
      "Epoch 84 - Loss = 1.832529596867971e-05\n",
      "Epoch 85 - Loss = 1.748796785250306e-05\n",
      "Epoch 86 - Loss = 1.6689695257809944e-05\n",
      "Epoch 87 - Loss = 1.5923385944915935e-05\n",
      "Epoch 88 - Loss = 1.5193666513368953e-05\n",
      "Epoch 89 - Loss = 1.4502844351227395e-05\n",
      "Epoch 90 - Loss = 1.3838735867466312e-05\n",
      "Epoch 91 - Loss = 1.3207514712121338e-05\n",
      "Epoch 92 - Loss = 1.2601180969795678e-05\n",
      "Epoch 93 - Loss = 1.2025624528178014e-05\n",
      "Epoch 94 - Loss = 1.147644070442766e-05\n",
      "Epoch 95 - Loss = 1.0949556781270076e-05\n",
      "Epoch 96 - Loss = 1.0450462468725163e-05\n",
      "Epoch 97 - Loss = 9.970536666514818e-06\n",
      "Epoch 98 - Loss = 9.515124475001357e-06\n",
      "Epoch 99 - Loss = 9.080413292394951e-06\n"
     ]
    }
   ],
   "source": [
    "for epoch in range(100):\n",
    "    for i, data2 in enumerate(data):\n",
    "        X,Y = data2\n",
    "        X,Y = Variable(torch.FloatTensor([X]), requires_grad=True), Variable(torch.FloatTensor([Y]), requires_grad=True)\n",
    "        optimizer.zero_grad()\n",
    "        outputs = net(X)\n",
    "        loss = criterion(outputs,Y)\n",
    "        loss.backward()\n",
    "        optimizer.step()\n",
    "        if(i%10 == 0):\n",
    "            print(\"Epoch {} - Loss = {}\".format(epoch, loss.data[0]))"
   ]
  },
  {
   "cell_type": "code",
   "execution_count": 49,
   "metadata": {},
   "outputs": [
    {
     "name": "stdout",
     "output_type": "stream",
     "text": [
      "[Parameter containing:\n",
      "tensor([[2.9988]], requires_grad=True), Parameter containing:\n",
      "tensor([0.0069], requires_grad=True)]\n"
     ]
    }
   ],
   "source": [
    "print(list(net.parameters()))"
   ]
  },
  {
   "cell_type": "markdown",
   "metadata": {},
   "source": [
    "### NN Tut-2"
   ]
  },
  {
   "cell_type": "code",
   "execution_count": 57,
   "metadata": {},
   "outputs": [
    {
     "name": "stdout",
     "output_type": "stream",
     "text": [
      "Net(\n",
      "  (conv1): Conv2d(1, 6, kernel_size=(3, 3), stride=(1, 1))\n",
      "  (conv2): Conv2d(6, 16, kernel_size=(3, 3), stride=(1, 1))\n",
      "  (fc1): Linear(in_features=576, out_features=120, bias=True)\n",
      "  (fc2): Linear(in_features=120, out_features=84, bias=True)\n",
      "  (fc3): Linear(in_features=84, out_features=10, bias=True)\n",
      ")\n"
     ]
    }
   ],
   "source": [
    "import torch\n",
    "import torch.nn as nn\n",
    "import torch.nn.functional as F\n",
    "\n",
    "\n",
    "class Net(nn.Module):\n",
    "\n",
    "    def __init__(self):\n",
    "        super(Net, self).__init__()\n",
    "        # 1 input image channel, 6 output channels, 3x3 square convolution\n",
    "        # kernel\n",
    "        self.conv1 = nn.Conv2d(1, 6, 3)\n",
    "        self.conv2 = nn.Conv2d(6, 16, 3)\n",
    "        # an affine operation: y = Wx + b\n",
    "        self.fc1 = nn.Linear(16 * 6 * 6, 120)  # 6*6 from image dimension\n",
    "        self.fc2 = nn.Linear(120, 84)\n",
    "        self.fc3 = nn.Linear(84, 10)\n",
    "\n",
    "    def forward(self, x):\n",
    "        # Max pooling over a (2, 2) window\n",
    "        x = F.max_pool2d(F.relu(self.conv1(x)), (2, 2))\n",
    "        # If the size is a square you can only specify a single number\n",
    "        x = F.max_pool2d(F.relu(self.conv2(x)), 2)\n",
    "        x = x.view(-1, self.num_flat_features(x))\n",
    "        x = F.relu(self.fc1(x))\n",
    "        x = F.relu(self.fc2(x))\n",
    "        x = self.fc3(x)\n",
    "        return x\n",
    "\n",
    "    def num_flat_features(self, x):\n",
    "        size = x.size()[1:]  # all dimensions except the batch dimension\n",
    "        num_features = 1\n",
    "        for s in size:\n",
    "            num_features *= s\n",
    "        return num_features\n",
    "\n",
    "\n",
    "net = Net()\n",
    "print(net)"
   ]
  },
  {
   "cell_type": "code",
   "execution_count": 63,
   "metadata": {},
   "outputs": [
    {
     "name": "stdout",
     "output_type": "stream",
     "text": [
      "10\n",
      "torch.Size([6, 1, 3, 3])\n",
      "torch.Size([6])\n",
      "torch.Size([16, 6, 3, 3])\n",
      "torch.Size([16])\n",
      "torch.Size([120, 576])\n",
      "torch.Size([120])\n",
      "torch.Size([84, 120])\n",
      "torch.Size([84])\n",
      "torch.Size([10, 84])\n",
      "torch.Size([10])\n"
     ]
    }
   ],
   "source": [
    "params = list(net.parameters())\n",
    "print(len(params))\n",
    "for i in range(10):\n",
    "    print(params[i].size())  # conv1's .weight"
   ]
  },
  {
   "cell_type": "code",
   "execution_count": 70,
   "metadata": {},
   "outputs": [
    {
     "name": "stdout",
     "output_type": "stream",
     "text": [
      "tensor([[-0.0990,  0.1900,  0.0858, -0.1011, -0.0453,  0.0446,  0.0847,  0.0346,\n",
      "          0.0962, -0.0280]], grad_fn=<AddmmBackward>)\n"
     ]
    }
   ],
   "source": [
    "input = torch.randn(1,1,32,32)\n",
    "out = net(input)\n",
    "print(out)"
   ]
  },
  {
   "cell_type": "code",
   "execution_count": 71,
   "metadata": {},
   "outputs": [],
   "source": [
    "net.zero_grad()\n",
    "out.backward(torch.randn(1, 10))"
   ]
  },
  {
   "cell_type": "code",
   "execution_count": null,
   "metadata": {},
   "outputs": [],
   "source": []
  }
 ],
 "metadata": {
  "kernelspec": {
   "display_name": "Python 3",
   "language": "python",
   "name": "python3"
  },
  "language_info": {
   "codemirror_mode": {
    "name": "ipython",
    "version": 3
   },
   "file_extension": ".py",
   "mimetype": "text/x-python",
   "name": "python",
   "nbconvert_exporter": "python",
   "pygments_lexer": "ipython3",
   "version": "3.7.1"
  }
 },
 "nbformat": 4,
 "nbformat_minor": 2
}

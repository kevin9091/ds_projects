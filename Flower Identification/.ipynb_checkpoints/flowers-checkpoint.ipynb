{
 "cells": [
  {
   "cell_type": "markdown",
   "metadata": {},
   "source": [
    "### Importing Libraries"
   ]
  },
  {
   "cell_type": "code",
   "execution_count": 30,
   "metadata": {},
   "outputs": [],
   "source": [
    "import os\n",
    "import numpy as np\n",
    "import pandas as pd\n",
    "from sklearn.metrics import confusion_matrix\n",
    "from itertools import product\n",
    "\n",
    "import torch\n",
    "import torch.nn as nn \n",
    "import torch.nn.functional as F\n",
    "import torchvision\n",
    "import torchvision.transforms as transforms\n",
    "import torch.optim as optim\n",
    "\n",
    "from torch.utils.data import DataLoader\n",
    "from torch.utils.data.sampler import SubsetRandomSampler\n",
    "from torch.utils.tensorboard import SummaryWriter"
   ]
  },
  {
   "cell_type": "markdown",
   "metadata": {},
   "source": [
    "### Creating Pytorch Dataset"
   ]
  },
  {
   "cell_type": "code",
   "execution_count": 31,
   "metadata": {},
   "outputs": [],
   "source": [
    "rootdir = \"../../data/flowers-data\"\n",
    "flower_transform = transforms.Compose([\n",
    "    transforms.Resize((128, 128)),\n",
    "    transforms.ToTensor()\n",
    "])\n",
    "flower_dataset = torchvision.datasets.ImageFolder(rootdir, transform=flower_transform)"
   ]
  },
  {
   "cell_type": "markdown",
   "metadata": {},
   "source": [
    "### Define Parameters"
   ]
  },
  {
   "cell_type": "code",
   "execution_count": 33,
   "metadata": {},
   "outputs": [
    {
     "data": {
      "text/plain": [
       "['daisy', 'dandelion', 'rose', 'sunflower', 'tulip']"
      ]
     },
     "execution_count": 33,
     "metadata": {},
     "output_type": "execute_result"
    }
   ],
   "source": [
    "batch_size = 8\n",
    "valid_split = 0.2\n",
    "shuffle_dataset = True\n",
    "random_seed = 42\n",
    "flower_dataset.classes"
   ]
  },
  {
   "cell_type": "markdown",
   "metadata": {},
   "source": [
    "### Define Trainloader to create batches of input"
   ]
  },
  {
   "cell_type": "code",
   "execution_count": 43,
   "metadata": {},
   "outputs": [],
   "source": [
    "dataset_size = len(flower_dataset)\n",
    "indices = list(range(dataset_size))\n",
    "split = int(np.floor(valid_split*dataset_size))\n",
    "if shuffle_dataset:\n",
    "    np.random.seed(random_seed)\n",
    "    np.random.shuffle(indices)\n",
    "    \n",
    "train_indices, val_indices = indices[split:],indices[:split]\n",
    "train_sampler = SubsetRandomSampler(train_indices)\n",
    "valid_sampler = SubsetRandomSampler(val_indices)\n",
    "\n",
    "train_loader = DataLoader(flower_dataset, batch_size=batch_size, sampler = train_sampler)\n",
    "valid_loader = DataLoader(flower_dataset, batch_size=batch_size, sampler = valid_sampler)\n",
    "\n",
    "train_dataset_size = dataset_size*(1-valid_split)\n",
    "valid_dataset_size = dataset_size*(valid_split)"
   ]
  },
  {
   "cell_type": "markdown",
   "metadata": {},
   "source": [
    "### Display Image Data"
   ]
  },
  {
   "cell_type": "code",
   "execution_count": 35,
   "metadata": {},
   "outputs": [],
   "source": [
    "from torchvision.transforms import ToPILImage\n",
    "import matplotlib.pyplot as plt\n",
    "\n",
    "train_batch, label_train = next(iter(train_loader))\n",
    "valid_batch, label_valid = next(iter(valid_loader))\n",
    "\n",
    "def img_plotter(batch,rows=8,cols=8):\n",
    "    fig,axs = plt.subplots(nrows=rows,ncols=cols,figsize=(30,18))\n",
    "    for i in range(rows):\n",
    "        for j in range(cols):\n",
    "            axs[i,j].imshow(batch[rows*j+i].permute(1,2,0))"
   ]
  },
  {
   "cell_type": "code",
   "execution_count": 36,
   "metadata": {},
   "outputs": [],
   "source": [
    "# img_plotter(train_batch, rows=2, cols=4)"
   ]
  },
  {
   "cell_type": "code",
   "execution_count": 37,
   "metadata": {},
   "outputs": [],
   "source": [
    "# img_plotter(valid_batch,rows=2,cols=4)"
   ]
  },
  {
   "cell_type": "code",
   "execution_count": 38,
   "metadata": {},
   "outputs": [],
   "source": [
    "def get_num_correct(preds, labels):\n",
    "    return preds.argmax(dim=1).eq(labels).sum().item()"
   ]
  },
  {
   "cell_type": "code",
   "execution_count": 39,
   "metadata": {},
   "outputs": [],
   "source": [
    "class Network(nn.Module):\n",
    "    def __init__(self):\n",
    "        super(Network, self).__init__()\n",
    "        self.conv1 = nn.Conv2d(in_channels=3, out_channels=6, kernel_size=9, padding=4)\n",
    "        torch.nn.init.xavier_uniform_(self.conv1.weight)\n",
    "#         self.conv2 = nn.Conv2d(in_channels=6, out_channels=9, kernel_size=7, padding=3)\n",
    "        self.conv3 = nn.Conv2d(in_channels=6, out_channels=12, kernel_size=7, padding=3)\n",
    "        torch.nn.init.xavier_uniform_(self.conv3.weight)\n",
    "#         self.conv4 = nn.Conv2d(in_channels=12, out_channels=15, kernel_size=5, padding=2)\n",
    "        self.conv5 = nn.Conv2d(in_channels=12, out_channels=18, kernel_size=5, padding=2)\n",
    "        torch.nn.init.xavier_uniform_(self.conv5.weight)\n",
    "        self.BN1 = nn.BatchNorm2d(18) \n",
    "#         self.conv6 = nn.Conv2d(in_channels=18, out_channels=24, kernel_size=3, padding=1)\n",
    "        self.fc1 = nn.Linear(in_features=18*7*7, out_features=100)\n",
    "        self.BN2 = nn.BatchNorm1d(100)\n",
    "        self.fc2 = nn.Linear(in_features=100, out_features=25)\n",
    "        self.out = nn.Linear(in_features=25, out_features=6)\n",
    "        \n",
    "    def forward(self, x):\n",
    "        x = F.max_pool2d(F.relu(self.conv1(x)), kernel_size=3, stride=3)  # Layer 1\n",
    "#         print(x.shape)\n",
    "        x = F.max_pool2d(F.relu(self.conv3(x)), kernel_size=3, stride=3)  # Layer 2\n",
    "#         print(x.shape)\n",
    "        x = self.BN1(F.max_pool2d(F.relu(self.conv5(x)), kernel_size=2, stride=2))  # Layer 3\n",
    "#         print(x.shape)\n",
    "        x = x.reshape(-1, 18*7*7)\n",
    "        x = self.BN2(F.relu(self.fc1(x)))\n",
    "        x = F.relu(self.fc2(x))\n",
    "        x = self.out(x)\n",
    "        \n",
    "        return x"
   ]
  },
  {
   "cell_type": "code",
   "execution_count": 44,
   "metadata": {
    "scrolled": true
   },
   "outputs": [
    {
     "name": "stdout",
     "output_type": "stream",
     "text": [
      "[1,    10] loss: 1.636\n",
      "[1,    20] loss: 1.465\n",
      "[1,    30] loss: 1.346\n",
      "3458.4\n",
      "epoch: 0 total_correct: 1369 loss: 5056.474268436432 Accuracy: 0.39584779088595884\n",
      "[2,    10] loss: 1.165\n",
      "[2,    20] loss: 1.080\n",
      "[2,    30] loss: 1.113\n",
      "3458.4\n",
      "epoch: 1 total_correct: 1880 loss: 3884.8659098148346 Accuracy: 0.5436039787184825\n",
      "[3,    10] loss: 1.001\n",
      "[3,    20] loss: 1.006\n",
      "[3,    30] loss: 1.020\n",
      "3458.4\n",
      "epoch: 2 total_correct: 2066 loss: 3509.9349200725555 Accuracy: 0.5973860744853111\n",
      "[4,    10] loss: 0.981\n",
      "[4,    20] loss: 0.932\n",
      "[4,    30] loss: 0.855\n",
      "3458.4\n",
      "epoch: 3 total_correct: 2189 loss: 3240.4036045074463 Accuracy: 0.6329516539440203\n",
      "[5,    10] loss: 0.879\n",
      "[5,    20] loss: 0.880\n",
      "[5,    30] loss: 0.861\n",
      "3458.4\n",
      "epoch: 4 total_correct: 2265 loss: 3020.7984685897827 Accuracy: 0.6549271339347675\n",
      "[6,    10] loss: 0.748\n",
      "[6,    20] loss: 0.807\n",
      "[6,    30] loss: 0.813\n",
      "3458.4\n",
      "epoch: 5 total_correct: 2381 loss: 2757.4462473392487 Accuracy: 0.6884686560259079\n",
      "[7,    10] loss: 0.679\n",
      "[7,    20] loss: 0.776\n",
      "[7,    30] loss: 0.705\n",
      "3458.4\n",
      "epoch: 6 total_correct: 2500 loss: 2549.217540025711 Accuracy: 0.7228776312745778\n",
      "[8,    10] loss: 0.646\n",
      "[8,    20] loss: 0.627\n",
      "[8,    30] loss: 0.653\n",
      "3458.4\n",
      "epoch: 7 total_correct: 2610 loss: 2246.0438668727875 Accuracy: 0.7546842470506593\n",
      "[9,    10] loss: 0.564\n",
      "[9,    20] loss: 0.535\n",
      "[9,    30] loss: 0.557\n",
      "3458.4\n",
      "epoch: 8 total_correct: 2715 loss: 1961.6007953882217 Accuracy: 0.7850451075641915\n",
      "[10,    10] loss: 0.487\n",
      "[10,    20] loss: 0.490\n",
      "[10,    30] loss: 0.479\n",
      "3458.4\n",
      "epoch: 9 total_correct: 2834 loss: 1687.7398073673248 Accuracy: 0.8194540828128614\n",
      "[11,    10] loss: 0.342\n",
      "[11,    20] loss: 0.368\n",
      "[11,    30] loss: 0.375\n",
      "3458.4\n",
      "epoch: 10 total_correct: 2985 loss: 1325.2739742398262 Accuracy: 0.8631158917418459\n",
      "[12,    10] loss: 0.335\n",
      "[12,    20] loss: 0.316\n",
      "[12,    30] loss: 0.388\n",
      "3458.4\n",
      "epoch: 11 total_correct: 3032 loss: 1173.2782781124115 Accuracy: 0.876705991209808\n",
      "Wall time: 6min 42s\n"
     ]
    }
   ],
   "source": [
    "%%time\n",
    "\n",
    "device='cuda'\n",
    "parameters = dict(\n",
    "batch_size = [100],\n",
    "lr = [0.005],\n",
    "shuffle = [True]\n",
    ")\n",
    "param_values = [v for v in parameters.values()]\n",
    "\n",
    "for batch_size, lr, shuffle in product(*param_values):\n",
    "    network = Network().to('cuda')\n",
    "    train_loader = DataLoader(flower_dataset, batch_size=batch_size, sampler = train_sampler)\n",
    "    optimizer = optim.Adam(network.parameters(), lr=lr)\n",
    "    criterion = nn.CrossEntropyLoss()\n",
    "\n",
    "    comment = f'FlowerNet BN batch_size={batch_size} lr={lr}'\n",
    "    tb = SummaryWriter(comment=comment)\n",
    "    tb_count=0\n",
    "\n",
    "    for epoch in range(12): \n",
    "        total_loss=0\n",
    "        total_correct=0\n",
    "        running_loss = 0.0\n",
    "        for i, data in enumerate(train_loader, 0):\n",
    "            inputs, labels = data[0].to(device), data[1].to(device)\n",
    "            optimizer.zero_grad()\n",
    "            outputs = network(inputs)\n",
    "            loss = criterion(outputs, labels)\n",
    "            loss.backward()\n",
    "            optimizer.step()\n",
    "\n",
    "            running_loss += loss.item()\n",
    "            if i % 10 == 9:   \n",
    "                tb_count += 1\n",
    "                tb.add_scalar('Running Loss', running_loss/100, tb_count)\n",
    "                print('[%d, %5d] loss: %.3f' %(epoch + 1, i + 1, running_loss / 10))\n",
    "                running_loss = 0.0\n",
    "\n",
    "            total_loss+=loss.item() * batch_size\n",
    "            total_correct+=get_num_correct(outputs, labels)\n",
    "\n",
    "        tb.add_scalar('Loss', total_loss, epoch)\n",
    "        tb.add_scalar('Number Correct', total_correct, epoch)\n",
    "        tb.add_scalar('Accuracy', total_correct/train_dataset_size, epoch)\n",
    "        tb.add_histogram('conv1.bias', network.conv1.bias, epoch)\n",
    "        tb.add_histogram('conv1.weight', network.conv1.weight, epoch)\n",
    "        tb.add_histogram('conv1.weight.grad', network.conv1.weight.grad, epoch)\n",
    "\n",
    "        print(\"epoch:\", epoch, \"total_correct:\", total_correct, \"loss:\", total_loss, \"Accuracy:\", total_correct/train_dataset_size)\n",
    "\n",
    "    tb.close()\n",
    "\n",
    "#         for batch in train_loader:\n",
    "#             images = batch[0].to('cuda')\n",
    "#             labels = batch[1].to('cuda')\n",
    "#             optimizer.zero_grad()\n",
    "#             preds = network(images)\n",
    "#             loss = criterion(preds, labels)\n",
    "#             loss.backward()\n",
    "#             optimizer.step()\n",
    "\n",
    "#             running_loss += loss.item()\n",
    "#             if i % 5 == 4:   \n",
    "# #                 tb_count += 1\n",
    "# #                 tb.add_scalar('Running Loss', running_loss/100, tb_count)\n",
    "#                 print('[%d, %5d] loss: %.3f' %(epoch + 1, i + 1, running_loss / 5))\n",
    "#                 running_loss = 0.0\n",
    "\n"
   ]
  },
  {
   "cell_type": "code",
   "execution_count": 47,
   "metadata": {},
   "outputs": [
    {
     "name": "stdout",
     "output_type": "stream",
     "text": [
      "total_correct: 546 loss: 2.252427399158478 Accuracy: 0.6315058986814712\n"
     ]
    }
   ],
   "source": [
    "total_loss=0\n",
    "total_correct=0\n",
    "running_loss = 0.0\n",
    "for i, data in enumerate(valid_loader, 0):\n",
    "    inputs, labels = data[0].to(device), data[1].to(device)\n",
    "    outputs = network(inputs)\n",
    "\n",
    "    total_loss+=loss.item() \n",
    "    total_correct+=get_num_correct(outputs, labels)\n",
    "\n",
    "print(\"total_correct:\", total_correct, \"loss:\", total_loss, \"Accuracy:\", total_correct/valid_dataset_size)\n"
   ]
  },
  {
   "cell_type": "code",
   "execution_count": null,
   "metadata": {},
   "outputs": [],
   "source": []
  }
 ],
 "metadata": {
  "kernelspec": {
   "display_name": "Python 3",
   "language": "python",
   "name": "python3"
  },
  "language_info": {
   "codemirror_mode": {
    "name": "ipython",
    "version": 3
   },
   "file_extension": ".py",
   "mimetype": "text/x-python",
   "name": "python",
   "nbconvert_exporter": "python",
   "pygments_lexer": "ipython3",
   "version": "3.7.1"
  }
 },
 "nbformat": 4,
 "nbformat_minor": 2
}
